{
 "cells": [
  {
   "cell_type": "markdown",
   "id": "32ec92a0-c21a-45b8-ac63-9f9c698a1291",
   "metadata": {},
   "source": [
    "# What's in an Avocado Toast: A Supply Chain Analysis\n",
    "\n",
    "![](avocado_wallpaper.jpeg)\n",
    "\n",
    "You find yourself in London, crafting a delectable avocado toast, a dish that has risen dramatically in popularity on breakfast menus since the 2010s. This straightforward recipe requires just five ingredients: a ripe avocado, half a lemon, a generous pinch of salt flakes, two slices of sourdough bread, and a good drizzle of extra virgin olive oil. Most of these ingredients are now staples in grocery stores, and as you will find with this project, that is no small feat!\n",
    "\n",
    "In this project, you'll conduct a supply chain analysis of three ingredients used in avocado toast using the Open Food Facts database. This database contains extensive, openly-sourced information on various foods, including their origins. Through this analysis, you will gain an in-depth understanding of the complex supply chain involved in producing a single dish.\n",
    "\n",
    "Three pairs of files are provided in the data folder:\n",
    "- A CSV file for each ingredient, such as `avocado.csv`, with data about each food item and countries of origin.\n",
    "- A TXT file for each ingredient, such as `relevant_avocado_categories`, containing only the category tags of interest for that food.\n",
    "\n",
    "Here are some other key points about these files:\n",
    "- Some of the rows of data in each of the three CSV files do not contain relevant data for your investigation. In each dataset, you will need to filter out rows with irrelevant data, based on values in the `categories_tags` column. Examples of categories are fruits, vegetables, and fruit-based oils. Filter the DataFrame to include only rows where `categories_tags` contains one of the tags in the relevant categories for that ingredient.\n",
    "- Each row of data usually has multiple category tags in the `categories_tags` column.\n",
    "There is a column in each CSV file called `origins_tags`, which contains strings for the country of origin of each item.\n",
    "\n",
    "After completing this project, you'll be armed with a list of ingredients and their countries of origin and be well-positioned to launch into other analyses that explore how long, on average, these ingredients spend at sea.\n",
    "\n",
    "[Open Food Facts database](https://world.openfoodfacts.org/)"
   ]
  },
  {
   "cell_type": "code",
   "execution_count": 21,
   "id": "339a6352-aed5-4b9e-a48f-1b91a7db9adb",
   "metadata": {
    "executionTime": 8,
    "lastSuccessfullyExecutedCode": "import pandas as pd"
   },
   "outputs": [
    {
     "name": "stderr",
     "output_type": "stream",
     "text": [
      "/tmp/ipykernel_232708/3716312833.py:5: DtypeWarning: Columns (1,2,4,5,7,8,9,10,12,15,17,18,19,21,22,23,24,26,27,28,29,30,31,32,33,34,35,36,37,38,39,40,41,43,44,46,47,48,49,50,51,52,53,54,55,75,76,77,80,81,82,83,84,85,86,88,90,91,93,94,95,97,98,99,100,102,103,104,105,106,107,108,109,120,124,128,132,136,140,144,148,152,156,162,164,166,168,170,174,178,180,182,184,186,188,190,200,202,204,206,208,210,214,216,220,222,224,242,256,258,260,262,264,266,270,272,274,278,280,281,282,283,284,285,286,287,288,289,290,292,293,294,295,296,307,321,322,323,324,325,326) have mixed types. Specify dtype option on import or set low_memory=False.\n",
      "  lemon_data = pd.read_csv(\"data/lemon.csv\", sep=\"\\t\", on_bad_lines=\"skip\")\n",
      "/tmp/ipykernel_232708/3716312833.py:6: DtypeWarning: Columns (0,1,2,4,5,6,7,8,10,13,15,16,17,18,20,21,22,23,24,25,26,27,29,30,31,32,33,34,35,36,37,38,39,42,43,44,45,46,48,49,50,57,67,70,71,72,73,74,75,76,79,80,81,82,83,86,87,88,89,90,91,92,95,96,97,98,99,100,101,102,103,104,105,106,107,108,109,110,115,121,125,129,133,137,141,145,149,153,157,159,161,165,167,169,177,179,181,183,185,187,189,191,193,195,197,199,201,203,205,211,213,215,217,219,221,223,225,227,229,231,233,235,237,239,241,243,245,247,249,251,253,255,257,259,261,263,265,267,269,271,273,274,275,276,277,278,279,280,281,282,283,284,285,286,288,289,290,291,292,293,294,305,311,312,313,315,316,319,320,321,322,324) have mixed types. Specify dtype option on import or set low_memory=False.\n",
      "  olive_oil_data = pd.read_csv(\"data/olive_oil.csv\", sep=\"\\t\", on_bad_lines=\"skip\")\n"
     ]
    }
   ],
   "source": [
    "# load data\n",
    "import pandas as pd\n",
    "\n",
    "avocado_data = pd.read_csv(\"data/avocado.csv\", sep=\"\\t\", on_bad_lines=\"skip\")\n",
    "lemon_data = pd.read_csv(\"data/lemon.csv\", sep=\"\\t\", on_bad_lines=\"skip\")\n",
    "olive_oil_data = pd.read_csv(\"data/olive_oil.csv\", sep=\"\\t\", on_bad_lines=\"skip\")\n",
    "salt_flakes_data = pd.read_csv(\"data/salt_flakes.csv\", sep=\"\\t\", on_bad_lines=\"skip\")\n",
    "sourdough_data = pd.read_csv(\"data/sourdough.csv\", sep=\"\\t\", on_bad_lines=\"skip\")"
   ]
  },
  {
   "cell_type": "code",
   "execution_count": 20,
   "id": "d48ce765",
   "metadata": {},
   "outputs": [],
   "source": [
    "# subset dataframes for easier analysis\n",
    "# we leave only relevant data\n",
    "# subsets: 'code', 'lc', 'productnameen', 'quantity', 'servingsize', 'packagingtags', 'brands', 'brandstags', 'categoriestags', 'labelstags', 'countries',\n",
    "def subset_dataframe(dataframe: pd.DataFrame) -> pd.DataFrame:\n",
    "    columns_to_keep = [\n",
    "        \"code\",\n",
    "        \"lc\",\n",
    "        \"productnameen\",\n",
    "        \"quantity\",\n",
    "        \"servingsize\",\n",
    "        \"packagingtags\",\n",
    "        \"brands\",\n",
    "        \"brandstags\",\n",
    "        \"categoriestags\",\n",
    "        \"labelstags\",\n",
    "        \"countries\",\n",
    "    ]\n",
    "    # Filter out columns that are not in the dataframe\n",
    "    columns_to_keep = [col for col in columns_to_keep if col in dataframe.columns]\n",
    "    return dataframe[columns_to_keep]\n",
    "\n",
    "avocado_data = subset_dataframe(avocado_data)\n",
    "lemon_data = subset_dataframe(lemon_data)\n",
    "olive_oil_data = subset_dataframe(olive_oil_data)\n",
    "salt_flakes_data = subset_dataframe(salt_flakes_data)\n",
    "sourdough_data = subset_dataframe(sourdough_data)"
   ]
  },
  {
   "cell_type": "code",
   "execution_count": 22,
   "id": "4edb8c3f",
   "metadata": {},
   "outputs": [],
   "source": [
    "# only leave relevant categories for avocado, olive oil and sourdough"
   ]
  }
 ],
 "metadata": {
  "colab": {
   "name": "Welcome to DataCamp Workspaces.ipynb",
   "provenance": []
  },
  "kernelspec": {
   "display_name": ".venv",
   "language": "python",
   "name": "python3"
  },
  "language_info": {
   "codemirror_mode": {
    "name": "ipython",
    "version": 3
   },
   "file_extension": ".py",
   "mimetype": "text/x-python",
   "name": "python",
   "nbconvert_exporter": "python",
   "pygments_lexer": "ipython3",
   "version": "3.12.8"
  }
 },
 "nbformat": 4,
 "nbformat_minor": 5
}
