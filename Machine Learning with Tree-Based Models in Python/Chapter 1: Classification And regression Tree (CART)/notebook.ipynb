{
 "cells": [
  {
   "cell_type": "markdown",
   "metadata": {},
   "source": [
    "## Classification tree\n",
    "- This is a sequence of if-else questions about individual features.\n",
    "- The objective of this is to infer class labels.\n",
    "- It is able to capture non-linear relationships between features and labels.\n",
    "- Doesn't require feature scaling (ex: Standardization...)"
   ]
  },
  {
   "cell_type": "markdown",
   "metadata": {},
   "source": [
    "An example of a decison tree would look like:"
   ]
  },
  {
   "cell_type": "markdown",
   "metadata": {},
   "source": [
    "```mermaid\n",
    "graph TD\n",
    "    A[Concave points_mean <= 0.051]\n",
    "    A -->|True| B[radius_mean <= 14.98]\n",
    "    A -->|False| C[radius_mean <= 11.345]\n",
    "    B -->|True| D[\"257 benign, 7 malignant\\nPredict -> benign\"]\n",
    "    B -->|False| E[\"9 benign, 11 malignant\\nPredict -> malignant\"]\n",
    "    C -->|True| F[\"4 benign, 0 malignant\\nPredict -> benign\"]\n",
    "    C -->|False| G[\"15 benign, 152 malignant\\nPredict -> malignant\"]\n",
    "```"
   ]
  },
  {
   "cell_type": "markdown",
   "metadata": {},
   "source": [
    "### Classification tree in scikit-learn"
   ]
  }
 ],
 "metadata": {
  "language_info": {
   "name": "python"
  }
 },
 "nbformat": 4,
 "nbformat_minor": 2
}
